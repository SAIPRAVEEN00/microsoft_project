{
 "cells": [
  {
   "cell_type": "code",
   "execution_count": 2,
   "metadata": {},
   "outputs": [
    {
     "data": {
      "text/plain": [
       "36"
      ]
     },
     "execution_count": 2,
     "metadata": {},
     "output_type": "execute_result"
    }
   ],
   "source": [
    "import pandas as pd\n",
    "import numpy as np \n",
    "import matplotlib.pyplot as plt\n",
    "import seaborn as sns\n",
    "\n",
    "microsoft_df=pd.read_csv('Microsoft_Data.csv')\n",
    "microsoft_df.dtypes\n",
    "\n",
    "\n",
    "microsoft_df['OsBuild']=microsoft_df['OsBuild'].astype('object')\n",
    "\n",
    "microsoft_df['HasDetections']=microsoft_df['HasDetections'].astype('object')\n",
    "\n",
    "#microsoft_df[['OsBuild','Census_PrimaryDiskTotalCapacity']]\n",
    "\n",
    "#microsoft_df['OsBuild'].value_counts() # Accessing more than one column from the data frame\n",
    "\n",
    "len(microsoft_df['OsBuild'].value_counts())\n"
   ]
  },
  {
   "cell_type": "code",
   "execution_count": 2,
   "metadata": {},
   "outputs": [
    {
     "data": {
      "text/plain": [
       "(158.07149922833526,\n",
       " 1.434114178500418e-17,\n",
       " 35,\n",
       " array([[1.99478469e+00, 2.00521531e+00],\n",
       "        [3.11186412e+02, 3.12813588e+02],\n",
       "        [5.93947142e+02, 5.97052858e+02],\n",
       "        [8.54266545e+02, 8.58733455e+02],\n",
       "        [1.30359180e+03, 1.31040820e+03],\n",
       "        [2.31195546e+03, 2.32404454e+03],\n",
       "        [2.53138177e+03, 2.54461823e+03],\n",
       "        [7.91580436e+03, 7.95719564e+03],\n",
       "        [1.24155399e+04, 1.24804601e+04],\n",
       "        [4.98696173e-01, 5.01303827e-01],\n",
       "        [4.98696173e-01, 5.01303827e-01],\n",
       "        [1.49608852e+00, 1.50391148e+00],\n",
       "        [4.98696173e-01, 5.01303827e-01],\n",
       "        [9.97392346e-01, 1.00260765e+00],\n",
       "        [4.98696173e-01, 5.01303827e-01],\n",
       "        [4.98696173e-01, 5.01303827e-01],\n",
       "        [7.48044260e+00, 7.51955740e+00],\n",
       "        [4.98696173e-01, 5.01303827e-01],\n",
       "        [4.98696173e+00, 5.01303827e+00],\n",
       "        [4.98696173e-01, 5.01303827e-01],\n",
       "        [4.98696173e-01, 5.01303827e-01],\n",
       "        [2.99217704e+00, 3.00782296e+00],\n",
       "        [7.48044260e+00, 7.51955740e+00],\n",
       "        [4.98696173e-01, 5.01303827e-01],\n",
       "        [4.48826556e+00, 4.51173444e+00],\n",
       "        [6.48305025e+00, 6.51694975e+00],\n",
       "        [3.98956938e+00, 4.01043062e+00],\n",
       "        [4.98696173e-01, 5.01303827e-01],\n",
       "        [2.49348087e+00, 2.50651913e+00],\n",
       "        [3.98956938e+00, 4.01043062e+00],\n",
       "        [2.49348087e+00, 2.50651913e+00],\n",
       "        [5.48565790e+00, 5.51434210e+00],\n",
       "        [4.98696173e-01, 5.01303827e-01],\n",
       "        [1.49608852e+00, 1.50391148e+00],\n",
       "        [4.98696173e-01, 5.01303827e-01],\n",
       "        [1.99478469e+00, 2.00521531e+00]]))"
      ]
     },
     "execution_count": 2,
     "metadata": {},
     "output_type": "execute_result"
    }
   ],
   "source": [
    "# Chi-Square Test -- used to test for the correlation between two categorical variables\n",
    "import scipy.stats\n",
    "\n",
    "contingency_table = pd.crosstab(microsoft_df['OsBuild'],microsoft_df['HasDetections']) # Builds the contingency table\n",
    "\n",
    "contingency_table\n",
    "\n",
    "result=scipy.stats.chi2_contingency(contingency_table) # Outputs the Chi-Square Test Statistic,P-Value and degrees of freedom\n",
    "\n",
    "result"
   ]
  },
  {
   "cell_type": "code",
   "execution_count": 3,
   "metadata": {},
   "outputs": [
    {
     "name": "stdout",
     "output_type": "stream",
     "text": [
      "                            OLS Regression Results                            \n",
      "==============================================================================\n",
      "Dep. Variable:                    mpg   R-squared:                       0.637\n",
      "Model:                            OLS   Adj. R-squared:                  0.634\n",
      "Method:                 Least Squares   F-statistic:                     172.6\n",
      "Date:                Wed, 08 Apr 2020   Prob (F-statistic):           3.68e-85\n",
      "Time:                        20:25:55   Log-Likelihood:                -1180.8\n",
      "No. Observations:                 398   AIC:                             2372.\n",
      "Df Residuals:                     393   BIC:                             2392.\n",
      "Df Model:                           4                                         \n",
      "Covariance Type:            nonrobust                                         \n",
      "==================================================================================\n",
      "                     coef    std err          t      P>|t|      [0.025      0.975]\n",
      "----------------------------------------------------------------------------------\n",
      "Intercept         20.5500      2.366      8.687      0.000      15.899      25.201\n",
      "cylinders[T.4]     8.7368      2.389      3.657      0.000       4.040      13.433\n",
      "cylinders[T.5]     6.8167      3.614      1.886      0.060      -0.288      13.921\n",
      "cylinders[T.6]    -0.5643      2.421     -0.233      0.816      -5.325       4.196\n",
      "cylinders[T.8]    -5.5869      2.411     -2.317      0.021     -10.327      -0.846\n",
      "==============================================================================\n",
      "Omnibus:                       48.011   Durbin-Watson:                   1.008\n",
      "Prob(Omnibus):                  0.000   Jarque-Bera (JB):               71.510\n",
      "Skew:                           0.793   Prob(JB):                     2.96e-16\n",
      "Kurtosis:                       4.341   Cond. No.                         27.3\n",
      "==============================================================================\n",
      "\n",
      "Warnings:\n",
      "[1] Standard Errors assume that the covariance matrix of the errors is correctly specified.\n"
     ]
    },
    {
     "data": {
      "image/png": "[encoded data removed]",
      "text/plain": [
       "<Figure size 1440x720 with 1 Axes>"
      ]
     },
     "metadata": {
      "needs_background": "light"
     },
     "output_type": "display_data"
    }
   ],
   "source": [
    "# ANOVA Test -- to test for the correlation between a categorical and continous variables \n",
    "import statsmodels.formula.api as smf\n",
    "import matplotlib.pyplot as plt\n",
    "import seaborn as sns\n",
    "\n",
    "plt.figure(figsize=(20,10))\n",
    "\n",
    "auto_data = pd.read_csv(\"C:/Users/Sai/Desktop/Data Science/auto-mpg.data\", delim_whitespace=True, header=None, usecols=[0,1],\n",
    "                    names=['mpg','cylinders'],dtype={'mpg':np.float64, 'cylinders':'category'})\n",
    "\n",
    "sns.boxplot(x=auto_data['cylinders'], y=auto_data['mpg'], showmeans=True)\n",
    "\n",
    "#plt.show()\n",
    "\n",
    "#Fitting the ANOVA Model\n",
    "model = smf.ols(formula='mpg ~ cylinders', data=auto_data)\n",
    "results = model.fit()\n",
    "print (results.summary()) # F-Statistics & Prob (F-Statistic)i.e.p-value are the values to look out for "
   ]
  },
  {
   "cell_type": "code",
   "execution_count": 2,
   "metadata": {},
   "outputs": [
    {
     "data": {
      "text/plain": [
       "1.0"
      ]
     },
     "execution_count": 2,
     "metadata": {},
     "output_type": "execute_result"
    }
   ],
   "source": [
    "import numpy as np # Sigmoid function\n",
    "\n",
    "def sigmoid(x):\n",
    "    return 1/(1+np.exp(-x))\n",
    "\n",
    "sigmoid(100)"
   ]
  },
  {
   "cell_type": "code",
   "execution_count": 6,
   "metadata": {},
   "outputs": [],
   "source": [
    "input_range=range(-100,100)\n",
    "\n",
    "sigmoid_values=[]\n",
    "\n",
    "for num in input_range:\n",
    "    sigmoid_values.append(sigmoid(num))\n",
    "\n",
    "#sigmoid_values"
   ]
  },
  {
   "cell_type": "code",
   "execution_count": 8,
   "metadata": {},
   "outputs": [
    {
     "data": {
      "text/plain": [
       "[<matplotlib.lines.Line2D at 0x1ad60b977c8>]"
      ]
     },
     "execution_count": 8,
     "metadata": {},
     "output_type": "execute_result"
    },
    {
     "data": {
      "image/png": "[encoded data removed]",
      "text/plain": [
       "<Figure size 432x288 with 1 Axes>"
      ]
     },
     "metadata": {
      "needs_background": "light"
     },
     "output_type": "display_data"
    }
   ],
   "source": [
    "import matplotlib.pyplot as plt \n",
    "\n",
    "plt.plot(input_range,sigmoid_values)"
   ]
  }
 ],
 "metadata": {
  "kernelspec": {
   "display_name": "Python 3",
   "language": "python",
   "name": "python3"
  },
  "language_info": {
   "codemirror_mode": {
    "name": "ipython",
    "version": 3
   },
   "file_extension": ".py",
   "mimetype": "text/x-python",
   "name": "python",
   "nbconvert_exporter": "python",
   "pygments_lexer": "ipython3",
   "version": "3.7.4"
  }
 },
 "nbformat": 4,
 "nbformat_minor": 2
}
